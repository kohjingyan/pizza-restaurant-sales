{
 "cells": [
  {
   "cell_type": "markdown",
   "id": "831ebe1b",
   "metadata": {},
   "source": [
    "# 🍕 Welcome to my Pizza Sales Analysis!"
   ]
  },
  {
   "cell_type": "markdown",
   "id": "bf90656b",
   "metadata": {},
   "source": [
    "<img src=\"https://cdn.britannica.com/08/177308-050-94D9D6BE/Food-Pizza-Basil-Tomato.jpg\" alt=\"Markdown\">\n",
    "\n",
    "<div style=\"background-color: #E5E4E2; text-align:left; vertical-align: middle; padding: 15px 25px 15px 25px; line-height: 1.6;\">\n",
    "<p>For the Maven Pizza Challenge, you’ll be playing the role of a BI Consultant hired by Plato's Pizza, a Greek-inspired pizza place in New Jersey. You've been hired to help the restaurant use data to improve operations, and just received the following note:\n",
    "<blockquote style=\"border-left: 3px solid #C4A484;\">\n",
    "Welcome aboard, we're glad you're here to help!<br>\n",
    "\n",
    "Things are going OK here at Plato's, but there's room for improvement. We've been collecting transactional data for the past year, but really haven't been able to put it to good use. Hoping you can analyze the data and put together a report to help us find opportunities to drive more sales and work more efficiently.</blockquote></p>\n",
    "<p>In this notebook, we will take a look at a dataset of Pizza Sales. To do so, we will use the following dataset: <code>Data Model - Pizza Sales.xlsx</code>, which was downloaded from Kaggle <a href=\"https://www.kaggle.com/datasets/shilongzhuang/pizza-sales\">here</a>.</p>"
   ]
  },
  {
   "cell_type": "markdown",
   "id": "256c3578",
   "metadata": {},
   "source": [
    "<div style=\"background-color: #efebe4; color: #05192d; text-align:left; vertical-align: middle; padding: 15px 25px 15px 25px; line-height: 1.6;\">\n",
    "    <div style=\"font-size:20px\"><b>Data Model - Pizza Sales.xlsx</b></div>\n",
    "    This pizza sales dataset make up 12 relevant features:\n",
    "<ul>\n",
    "    <li><b>order_id:</b> Unique identifier for each order placed by a table.</li>\n",
    "    <li><b>order_details_id:</b> Unique identifier for each pizza placed within each order (pizzas of the same type and size are kept in the same row, and the quantity increases).</li>\n",
    "    <li><b>pizza_id:</b> Unique key identifier that ties the pizza ordered to its details, like size and price.</li>\n",
    "    <li><b>quantity:</b> Quantity ordered for each pizza of the same type and size.</li>\n",
    "    <li><b>order_date:</b> Date the order was placed (entered into the system prior to cooking & serving).</li>\n",
    "    <li><b>order_time:</b> Time the order was placed (entered into the system prior to cooking & serving).</li>\n",
    "    <li><b>unit_price:</b> Price of the pizza in USD.</li>\n",
    "    <li><b>total_price:</b> unit_price * quantity.</li>\n",
    "    <li><b>pizza_size:</b> Size of the pizza (Small, Medium, Large, X Large, or XX Large).</li>\n",
    "    <li><b>pizza_category:</b> Category of the pizza (Classic, Supreme, Veggie, or Chicken).</li>\n",
    "    <li><b>pizza_ingredients:</b> ingredients used in the pizza as shown in the menu (they all include Mozzarella Cheese, even if not specified; and they all include Tomato Sauce, unless another sauce is specified).</li>\n",
    "    <li><b>pizza_name:</b> Name of the pizza as shown in the menu.</li>\n",
    "</ul>\n",
    "    </div>"
   ]
  },
  {
   "cell_type": "markdown",
   "id": "ff8ad8b6",
   "metadata": {},
   "source": [
    "# Import necessary libraries"
   ]
  },
  {
   "cell_type": "code",
   "execution_count": 1,
   "id": "440d9ae1",
   "metadata": {},
   "outputs": [],
   "source": [
    "import numpy as np\n",
    "import pandas as pd\n",
    "import seaborn as sns\n",
    "import matplotlib.pyplot as plt\n",
    "import matplotlib.colors as mcolors\n",
    "%matplotlib inline"
   ]
  },
  {
   "cell_type": "markdown",
   "id": "7c21c9f7",
   "metadata": {},
   "source": [
    "# [Import dataset](https://www.kaggle.com/datasets/shilongzhuang/pizza-sales)"
   ]
  },
  {
   "cell_type": "code",
   "execution_count": 2,
   "id": "1fe674c3",
   "metadata": {
    "scrolled": false
   },
   "outputs": [
    {
     "data": {
      "text/html": [
       "<div>\n",
       "<style scoped>\n",
       "    .dataframe tbody tr th:only-of-type {\n",
       "        vertical-align: middle;\n",
       "    }\n",
       "\n",
       "    .dataframe tbody tr th {\n",
       "        vertical-align: top;\n",
       "    }\n",
       "\n",
       "    .dataframe thead th {\n",
       "        text-align: right;\n",
       "    }\n",
       "</style>\n",
       "<table border=\"1\" class=\"dataframe\">\n",
       "  <thead>\n",
       "    <tr style=\"text-align: right;\">\n",
       "      <th></th>\n",
       "      <th>order_details_id</th>\n",
       "      <th>order_id</th>\n",
       "      <th>pizza_id</th>\n",
       "      <th>quantity</th>\n",
       "      <th>order_date</th>\n",
       "      <th>order_time</th>\n",
       "      <th>unit_price</th>\n",
       "      <th>total_price</th>\n",
       "      <th>pizza_size</th>\n",
       "      <th>pizza_category</th>\n",
       "      <th>pizza_ingredients</th>\n",
       "      <th>pizza_name</th>\n",
       "    </tr>\n",
       "  </thead>\n",
       "  <tbody>\n",
       "    <tr>\n",
       "      <th>0</th>\n",
       "      <td>1</td>\n",
       "      <td>1</td>\n",
       "      <td>hawaiian_m</td>\n",
       "      <td>1</td>\n",
       "      <td>2015-01-01</td>\n",
       "      <td>11:38:36</td>\n",
       "      <td>13.25</td>\n",
       "      <td>13.25</td>\n",
       "      <td>M</td>\n",
       "      <td>Classic</td>\n",
       "      <td>Sliced Ham, Pineapple, Mozzarella Cheese</td>\n",
       "      <td>The Hawaiian Pizza</td>\n",
       "    </tr>\n",
       "    <tr>\n",
       "      <th>1</th>\n",
       "      <td>2</td>\n",
       "      <td>2</td>\n",
       "      <td>classic_dlx_m</td>\n",
       "      <td>1</td>\n",
       "      <td>2015-01-01</td>\n",
       "      <td>11:57:40</td>\n",
       "      <td>16.00</td>\n",
       "      <td>16.00</td>\n",
       "      <td>M</td>\n",
       "      <td>Classic</td>\n",
       "      <td>Pepperoni, Mushrooms, Red Onions, Red Peppers,...</td>\n",
       "      <td>The Classic Deluxe Pizza</td>\n",
       "    </tr>\n",
       "    <tr>\n",
       "      <th>2</th>\n",
       "      <td>3</td>\n",
       "      <td>2</td>\n",
       "      <td>five_cheese_l</td>\n",
       "      <td>1</td>\n",
       "      <td>2015-01-01</td>\n",
       "      <td>11:57:40</td>\n",
       "      <td>18.50</td>\n",
       "      <td>18.50</td>\n",
       "      <td>L</td>\n",
       "      <td>Veggie</td>\n",
       "      <td>Mozzarella Cheese, Provolone Cheese, Smoked Go...</td>\n",
       "      <td>The Five Cheese Pizza</td>\n",
       "    </tr>\n",
       "    <tr>\n",
       "      <th>3</th>\n",
       "      <td>4</td>\n",
       "      <td>2</td>\n",
       "      <td>ital_supr_l</td>\n",
       "      <td>1</td>\n",
       "      <td>2015-01-01</td>\n",
       "      <td>11:57:40</td>\n",
       "      <td>20.75</td>\n",
       "      <td>20.75</td>\n",
       "      <td>L</td>\n",
       "      <td>Supreme</td>\n",
       "      <td>Calabrese Salami, Capocollo, Tomatoes, Red Oni...</td>\n",
       "      <td>The Italian Supreme Pizza</td>\n",
       "    </tr>\n",
       "    <tr>\n",
       "      <th>4</th>\n",
       "      <td>5</td>\n",
       "      <td>2</td>\n",
       "      <td>mexicana_m</td>\n",
       "      <td>1</td>\n",
       "      <td>2015-01-01</td>\n",
       "      <td>11:57:40</td>\n",
       "      <td>16.00</td>\n",
       "      <td>16.00</td>\n",
       "      <td>M</td>\n",
       "      <td>Veggie</td>\n",
       "      <td>Tomatoes, Red Peppers, Jalapeno Peppers, Red O...</td>\n",
       "      <td>The Mexicana Pizza</td>\n",
       "    </tr>\n",
       "  </tbody>\n",
       "</table>\n",
       "</div>"
      ],
      "text/plain": [
       "   order_details_id  order_id       pizza_id  quantity order_date order_time  \\\n",
       "0                 1         1     hawaiian_m         1 2015-01-01   11:38:36   \n",
       "1                 2         2  classic_dlx_m         1 2015-01-01   11:57:40   \n",
       "2                 3         2  five_cheese_l         1 2015-01-01   11:57:40   \n",
       "3                 4         2    ital_supr_l         1 2015-01-01   11:57:40   \n",
       "4                 5         2     mexicana_m         1 2015-01-01   11:57:40   \n",
       "\n",
       "   unit_price  total_price pizza_size pizza_category  \\\n",
       "0       13.25        13.25          M        Classic   \n",
       "1       16.00        16.00          M        Classic   \n",
       "2       18.50        18.50          L         Veggie   \n",
       "3       20.75        20.75          L        Supreme   \n",
       "4       16.00        16.00          M         Veggie   \n",
       "\n",
       "                                   pizza_ingredients  \\\n",
       "0           Sliced Ham, Pineapple, Mozzarella Cheese   \n",
       "1  Pepperoni, Mushrooms, Red Onions, Red Peppers,...   \n",
       "2  Mozzarella Cheese, Provolone Cheese, Smoked Go...   \n",
       "3  Calabrese Salami, Capocollo, Tomatoes, Red Oni...   \n",
       "4  Tomatoes, Red Peppers, Jalapeno Peppers, Red O...   \n",
       "\n",
       "                  pizza_name  \n",
       "0         The Hawaiian Pizza  \n",
       "1   The Classic Deluxe Pizza  \n",
       "2      The Five Cheese Pizza  \n",
       "3  The Italian Supreme Pizza  \n",
       "4         The Mexicana Pizza  "
      ]
     },
     "execution_count": 2,
     "metadata": {},
     "output_type": "execute_result"
    }
   ],
   "source": [
    "df = pd.read_excel('Data Model - Pizza Sales.xlsx')\n",
    "df.head()"
   ]
  },
  {
   "cell_type": "markdown",
   "id": "79f38e8d",
   "metadata": {},
   "source": [
    "# Explore the dataset"
   ]
  },
  {
   "cell_type": "code",
   "execution_count": 3,
   "id": "90b66cce",
   "metadata": {},
   "outputs": [
    {
     "data": {
      "text/plain": [
       "(48620, 12)"
      ]
     },
     "execution_count": 3,
     "metadata": {},
     "output_type": "execute_result"
    }
   ],
   "source": [
    "df.shape"
   ]
  },
  {
   "cell_type": "code",
   "execution_count": 4,
   "id": "3bbd799c",
   "metadata": {},
   "outputs": [
    {
     "data": {
      "text/plain": [
       "Index(['order_details_id', 'order_id', 'pizza_id', 'quantity', 'order_date',\n",
       "       'order_time', 'unit_price', 'total_price', 'pizza_size',\n",
       "       'pizza_category', 'pizza_ingredients', 'pizza_name'],\n",
       "      dtype='object')"
      ]
     },
     "execution_count": 4,
     "metadata": {},
     "output_type": "execute_result"
    }
   ],
   "source": [
    "df.columns"
   ]
  },
  {
   "cell_type": "code",
   "execution_count": 5,
   "id": "e4edda70",
   "metadata": {},
   "outputs": [
    {
     "name": "stdout",
     "output_type": "stream",
     "text": [
      "<class 'pandas.core.frame.DataFrame'>\n",
      "RangeIndex: 48620 entries, 0 to 48619\n",
      "Data columns (total 12 columns):\n",
      " #   Column             Non-Null Count  Dtype         \n",
      "---  ------             --------------  -----         \n",
      " 0   order_details_id   48620 non-null  int64         \n",
      " 1   order_id           48620 non-null  int64         \n",
      " 2   pizza_id           48620 non-null  object        \n",
      " 3   quantity           48620 non-null  int64         \n",
      " 4   order_date         48620 non-null  datetime64[ns]\n",
      " 5   order_time         48620 non-null  object        \n",
      " 6   unit_price         48620 non-null  float64       \n",
      " 7   total_price        48620 non-null  float64       \n",
      " 8   pizza_size         48620 non-null  object        \n",
      " 9   pizza_category     48620 non-null  object        \n",
      " 10  pizza_ingredients  48620 non-null  object        \n",
      " 11  pizza_name         48620 non-null  object        \n",
      "dtypes: datetime64[ns](1), float64(2), int64(3), object(6)\n",
      "memory usage: 4.5+ MB\n"
     ]
    }
   ],
   "source": [
    "df.info()"
   ]
  },
  {
   "cell_type": "markdown",
   "id": "cb88749b",
   "metadata": {},
   "source": [
    "<div style=\"background-color: #efebe4; color: #05192d; text-align:left; vertical-align: middle; padding: 15px 5px 5px 25px; line-height: 1.6;\">\n",
    "\n",
    "- <b>Categorical data:</b> pizza_size,\tpizza_category,\tpizza_ingredients,\tpizza_name\n",
    "- <b>Numerical data:</b> quantity, unit_price,\ttotal_price"
   ]
  },
  {
   "cell_type": "code",
   "execution_count": 6,
   "id": "dc771065",
   "metadata": {},
   "outputs": [
    {
     "data": {
      "text/html": [
       "<div>\n",
       "<style scoped>\n",
       "    .dataframe tbody tr th:only-of-type {\n",
       "        vertical-align: middle;\n",
       "    }\n",
       "\n",
       "    .dataframe tbody tr th {\n",
       "        vertical-align: top;\n",
       "    }\n",
       "\n",
       "    .dataframe thead th {\n",
       "        text-align: right;\n",
       "    }\n",
       "</style>\n",
       "<table border=\"1\" class=\"dataframe\">\n",
       "  <thead>\n",
       "    <tr style=\"text-align: right;\">\n",
       "      <th></th>\n",
       "      <th>order_details_id</th>\n",
       "      <th>order_id</th>\n",
       "      <th>quantity</th>\n",
       "      <th>unit_price</th>\n",
       "      <th>total_price</th>\n",
       "    </tr>\n",
       "  </thead>\n",
       "  <tbody>\n",
       "    <tr>\n",
       "      <th>count</th>\n",
       "      <td>48620.000000</td>\n",
       "      <td>48620.000000</td>\n",
       "      <td>48620.000000</td>\n",
       "      <td>48620.000000</td>\n",
       "      <td>48620.000000</td>\n",
       "    </tr>\n",
       "    <tr>\n",
       "      <th>mean</th>\n",
       "      <td>24310.500000</td>\n",
       "      <td>10701.479761</td>\n",
       "      <td>1.019622</td>\n",
       "      <td>16.494132</td>\n",
       "      <td>16.821474</td>\n",
       "    </tr>\n",
       "    <tr>\n",
       "      <th>std</th>\n",
       "      <td>14035.529381</td>\n",
       "      <td>6180.119770</td>\n",
       "      <td>0.143077</td>\n",
       "      <td>3.621789</td>\n",
       "      <td>4.437398</td>\n",
       "    </tr>\n",
       "    <tr>\n",
       "      <th>min</th>\n",
       "      <td>1.000000</td>\n",
       "      <td>1.000000</td>\n",
       "      <td>1.000000</td>\n",
       "      <td>9.750000</td>\n",
       "      <td>9.750000</td>\n",
       "    </tr>\n",
       "    <tr>\n",
       "      <th>25%</th>\n",
       "      <td>12155.750000</td>\n",
       "      <td>5337.000000</td>\n",
       "      <td>1.000000</td>\n",
       "      <td>12.750000</td>\n",
       "      <td>12.750000</td>\n",
       "    </tr>\n",
       "    <tr>\n",
       "      <th>50%</th>\n",
       "      <td>24310.500000</td>\n",
       "      <td>10682.500000</td>\n",
       "      <td>1.000000</td>\n",
       "      <td>16.500000</td>\n",
       "      <td>16.500000</td>\n",
       "    </tr>\n",
       "    <tr>\n",
       "      <th>75%</th>\n",
       "      <td>36465.250000</td>\n",
       "      <td>16100.000000</td>\n",
       "      <td>1.000000</td>\n",
       "      <td>20.250000</td>\n",
       "      <td>20.500000</td>\n",
       "    </tr>\n",
       "    <tr>\n",
       "      <th>max</th>\n",
       "      <td>48620.000000</td>\n",
       "      <td>21350.000000</td>\n",
       "      <td>4.000000</td>\n",
       "      <td>35.950000</td>\n",
       "      <td>83.000000</td>\n",
       "    </tr>\n",
       "  </tbody>\n",
       "</table>\n",
       "</div>"
      ],
      "text/plain": [
       "       order_details_id      order_id      quantity    unit_price  \\\n",
       "count      48620.000000  48620.000000  48620.000000  48620.000000   \n",
       "mean       24310.500000  10701.479761      1.019622     16.494132   \n",
       "std        14035.529381   6180.119770      0.143077      3.621789   \n",
       "min            1.000000      1.000000      1.000000      9.750000   \n",
       "25%        12155.750000   5337.000000      1.000000     12.750000   \n",
       "50%        24310.500000  10682.500000      1.000000     16.500000   \n",
       "75%        36465.250000  16100.000000      1.000000     20.250000   \n",
       "max        48620.000000  21350.000000      4.000000     35.950000   \n",
       "\n",
       "        total_price  \n",
       "count  48620.000000  \n",
       "mean      16.821474  \n",
       "std        4.437398  \n",
       "min        9.750000  \n",
       "25%       12.750000  \n",
       "50%       16.500000  \n",
       "75%       20.500000  \n",
       "max       83.000000  "
      ]
     },
     "execution_count": 6,
     "metadata": {},
     "output_type": "execute_result"
    }
   ],
   "source": [
    "df.describe()"
   ]
  },
  {
   "cell_type": "markdown",
   "id": "ba128030",
   "metadata": {},
   "source": [
    "# Data Cleaning"
   ]
  },
  {
   "cell_type": "code",
   "execution_count": 7,
   "id": "72ed2249",
   "metadata": {},
   "outputs": [
    {
     "data": {
      "text/plain": [
       "order_details_id     0\n",
       "order_id             0\n",
       "pizza_id             0\n",
       "quantity             0\n",
       "order_date           0\n",
       "order_time           0\n",
       "unit_price           0\n",
       "total_price          0\n",
       "pizza_size           0\n",
       "pizza_category       0\n",
       "pizza_ingredients    0\n",
       "pizza_name           0\n",
       "dtype: int64"
      ]
     },
     "execution_count": 7,
     "metadata": {},
     "output_type": "execute_result"
    }
   ],
   "source": [
    "df.isnull().sum()"
   ]
  },
  {
   "cell_type": "code",
   "execution_count": 8,
   "id": "f999e69c",
   "metadata": {},
   "outputs": [
    {
     "data": {
      "text/plain": [
       "0"
      ]
     },
     "execution_count": 8,
     "metadata": {},
     "output_type": "execute_result"
    }
   ],
   "source": [
    "df.duplicated().sum()"
   ]
  },
  {
   "cell_type": "code",
   "execution_count": 9,
   "id": "0ab9cb30",
   "metadata": {},
   "outputs": [
    {
     "name": "stdout",
     "output_type": "stream",
     "text": [
      "Plato's Pizza sells 32 types of pizzas!\n"
     ]
    }
   ],
   "source": [
    "number_of_pizza = df.pizza_name.nunique()\n",
    "print(f\"Plato's Pizza sells {number_of_pizza} types of pizzas!\")"
   ]
  },
  {
   "cell_type": "markdown",
   "id": "e47643ad",
   "metadata": {},
   "source": [
    "There is nothing to clean. We are all set for the next stage: data analysis!"
   ]
  },
  {
   "cell_type": "markdown",
   "id": "6d7197e2",
   "metadata": {},
   "source": [
    "# Exploratory Data Analysis (EDA)"
   ]
  },
  {
   "cell_type": "markdown",
   "id": "26a32017",
   "metadata": {},
   "source": [
    "<div style=\"background-color: #efebe4; color: #05192d; text-align:left; vertical-align: middle; padding: 15px 25px 15px 25px; line-height: 1.6;\">\n",
    "<div style=\"font-size:20px\"><b>We would like to explore these questions:</b></div>\n",
    "\n",
    "1. For each order, what is their total price?\n",
    "2. Which size of pizza is ordered the most?\n",
    "3. Which category of pizza is ordered the most?\n",
    "4. What days and times do we tend to be busiest?\n",
    "5. How many pizzas are we making during peak periods?\n",
    "6. What are our best and worst-selling pizzas?\n",
    "7. What's our average order value?\n",
    "8. What is the total revenue up to the latest order date?\n",
    "9. What is the total number of orders up to the latest order date?\n",
    "10. Visualize the number of orders per day\n",
    "11. Visualize revenue earned per day\n",
    "12. Which month was revenue earned the highest?\n",
    "    \n",
    "    </div>"
   ]
  },
  {
   "cell_type": "markdown",
   "id": "c6479d09",
   "metadata": {},
   "source": [
    "### 1. For each order, what is their total price?"
   ]
  },
  {
   "cell_type": "code",
   "execution_count": 10,
   "id": "26d83365",
   "metadata": {},
   "outputs": [
    {
     "data": {
      "image/png": "[encoded data removed]",
      "text/plain": [
       "<Figure size 360x360 with 1 Axes>"
      ]
     },
     "metadata": {
      "needs_background": "light"
     },
     "output_type": "display_data"
    }
   ],
   "source": [
    "order_price = df.groupby(['order_id']).agg({'total_price':'sum'})\n",
    "sns.displot(order_price, bins=20, palette = \"Dark2\", legend = False, kde = True)\n",
    "plt.xlabel('Price of orders')\n",
    "plt.ylabel('Frequency')\n",
    "plt.title('Distribution of order prices');"
   ]
  },
  {
   "cell_type": "markdown",
   "id": "ced72eee",
   "metadata": {},
   "source": [
    "### 2. Which size of pizza is ordered the most?"
   ]
  },
  {
   "cell_type": "code",
   "execution_count": 11,
   "id": "6a334982",
   "metadata": {},
   "outputs": [
    {
     "data": {
      "image/png": "[encoded data removed]",
      "text/plain": [
       "<Figure size 432x288 with 1 Axes>"
      ]
     },
     "metadata": {},
     "output_type": "display_data"
    }
   ],
   "source": [
    "total = len(df) # total number of orders\n",
    "L = len(df[df.pizza_size == 'L']) / total # % of Large pizzas to total no. of orders\n",
    "M = len(df[df.pizza_size == 'M']) / total # % of Medium pizzas to total no. of orders\n",
    "S = len(df[df.pizza_size == 'S']) / total # % of Small pizzas to total no. of orders\n",
    "XL = len(df[df.pizza_size == 'XL']) / total # % of Extra Large pizzas to total no. of orders\n",
    "XXL = len(df[df.pizza_size == 'XXL']) / total # % of Extra Extra Large pizzas to total no. of orders\n",
    "\n",
    "# Plot the pie chart\n",
    "figure, ax = plt.subplots()\n",
    "patches, texts, pcts = ax.pie([L,M,S,XL+XXL], \n",
    "                              labels = [\"L\",\"M\",\"S\",\"XL+XXL\"],\n",
    "                              autopct = '%.1f%%',\n",
    "                              wedgeprops={'linewidth':1.0, 'edgecolor': 'white'},\n",
    "                              textprops = {'size': 'x-large'},\n",
    "                              shadow = False)\n",
    "\n",
    "# Title of pie chart\n",
    "ax.set_title('Pizza sizes by orders (%)', fontsize = 15)\n",
    "\n",
    "# Annotation\n",
    "for i, patch in enumerate(patches):\n",
    "    texts[i].set_color(patch.get_facecolor())\n",
    "plt.setp(pcts, color='white')\n",
    "plt.setp(texts, fontweight = 600)\n",
    "\n",
    "# Show the pie chart\n",
    "plt.tight_layout();"
   ]
  },
  {
   "cell_type": "markdown",
   "id": "aafbe38d",
   "metadata": {},
   "source": [
    "### 3. Which category of pizza is ordered the most?"
   ]
  },
  {
   "cell_type": "code",
   "execution_count": 12,
   "id": "e94a8158",
   "metadata": {},
   "outputs": [
    {
     "data": {
      "image/png": "[encoded data removed]",
      "text/plain": [
       "<Figure size 720x360 with 1 Axes>"
      ]
     },
     "metadata": {
      "needs_background": "light"
     },
     "output_type": "display_data"
    }
   ],
   "source": [
    "# Show the number of orders for each category of pizza\n",
    "categories = df.pizza_category.value_counts()\n",
    "\n",
    "# Find the index of the highest value (highest number of orders)\n",
    "highest_index = categories.idxmax()\n",
    "\n",
    "# Set the color of the highest bar to green, and others to blue color\n",
    "colors = ['green' if i == highest_index else 'blue' for i in categories.index]\n",
    "\n",
    "# Plot the bar chart\n",
    "plots = categories.plot.barh(figsize = (10,5), color = colors)\n",
    "plt.ylabel('Pizza category')\n",
    "plt.xlabel('Number of orders')\n",
    "plt.title('Number of orders by pizza categories', fontsize = 15)\n",
    "\n",
    "# Total number of orders\n",
    "total = len(df)\n",
    "\n",
    "# Iterating over the bars one-by-one\n",
    "for bar in plots.patches:\n",
    "   \n",
    "  # Using Matplotlib's annotate function and\n",
    "  # passing the coordinates where the annotation shall be done\n",
    "  # y-coordinate: bar.get_y() + bar.get_width() / 2\n",
    "  # x-coordinate: bar.get_width()\n",
    "  # ha and va stand for the horizontal and vertical alignment\n",
    "    plots.annotate(format(bar.get_width() / total, '.0%'),\n",
    "                   (bar.get_width(), bar.get_y() + bar.get_height() / 2),\n",
    "                    ha='center', va='center',\n",
    "                   size=13, xytext=(-25, 0),\n",
    "                   textcoords='offset points', color = 'white', fontweight = 600)\n",
    "    \n",
    "# Hide the right and top spines\n",
    "plots.spines[['right', 'top']].set_visible(False);"
   ]
  },
  {
   "cell_type": "markdown",
   "id": "4fd0e717",
   "metadata": {},
   "source": [
    "### 4. What days and times do we tend to be busiest?\n",
    "### 5. How many pizzas are we making during peak periods?"
   ]
  },
  {
   "cell_type": "code",
   "execution_count": 13,
   "id": "f5bb716b",
   "metadata": {},
   "outputs": [
    {
     "data": {
      "image/png": "[encoded data removed]",
      "text/plain": [
       "<Figure size 1080x504 with 1 Axes>"
      ]
     },
     "metadata": {
      "needs_background": "light"
     },
     "output_type": "display_data"
    }
   ],
   "source": [
    "# Add two new columns to df: day_of_week, day_name\n",
    "day_of_week = []\n",
    "day_name = []\n",
    "\n",
    "for i in range(len(df)):\n",
    "    # 0 = Mon, 1 = Tue, 2 = Wed, ..., 6 = Sun\n",
    "    day_of_week.append(df.order_date[i].dayofweek)\n",
    "    \n",
    "    # Monday, Tuesday, ..., Sunday\n",
    "    day_name.append(df.order_date[i].day_name()) \n",
    "\n",
    "df['day_of_week'] = day_of_week\n",
    "df['day_name'] = day_name\n",
    "\n",
    "# Count number of orders by each day\n",
    "busiest_day_df = df.groupby(['day_of_week','day_name']).count().sort_index(ascending=True).reset_index().set_index('day_of_week')\n",
    "\n",
    "# Find the index of the highest value (highest number of orders by day)\n",
    "highest_index = busiest_day_df['total_price'].idxmax()\n",
    "\n",
    "# Set the color of the highest bar to green, and others to blue color\n",
    "colors = ['green' if i == highest_index else 'blue' for i in busiest_day_df.index]\n",
    "\n",
    "# Plot the bar chart\n",
    "ax = busiest_day_df.plot.bar(x = 'day_name', y = 'total_price', figsize = (15,7), legend=False, color = colors)\n",
    "plt.ylabel(\"Total revenue by day\")\n",
    "plt.xlabel(\"Day of week\")\n",
    "plt.title(\"Which day tend to be the most busiest?\")\n",
    "ax.set_xticklabels([\"Monday\",\"Tuesday\",\"Wednesday\",\"Thursday\",\"Friday\",\"Saturday\",\"Sunday\"],\n",
    "                  rotation = 0);\n",
    "\n",
    "# Iterating over the bars one-by-one\n",
    "for i, bar in enumerate(ax.patches):\n",
    "    ax.annotate(format(bar.get_height(), '.0f'),\n",
    "                (bar.get_x() + bar.get_width() / 2,\n",
    "                bar.get_height()), ha='center', va='center',\n",
    "                size=10, xytext=(0, 8),\n",
    "                textcoords='offset points', color = colors[i], fontweight = 600)\n",
    "    \n",
    "# Hide the right and top spines\n",
    "ax.spines[['right', 'top']].set_visible(False);"
   ]
  },
  {
   "cell_type": "code",
   "execution_count": 14,
   "id": "0b70d9ce",
   "metadata": {},
   "outputs": [
    {
     "data": {
      "text/html": [
       "<div>\n",
       "<style scoped>\n",
       "    .dataframe tbody tr th:only-of-type {\n",
       "        vertical-align: middle;\n",
       "    }\n",
       "\n",
       "    .dataframe tbody tr th {\n",
       "        vertical-align: top;\n",
       "    }\n",
       "\n",
       "    .dataframe thead th {\n",
       "        text-align: right;\n",
       "    }\n",
       "</style>\n",
       "<table border=\"1\" class=\"dataframe\">\n",
       "  <thead>\n",
       "    <tr style=\"text-align: right;\">\n",
       "      <th></th>\n",
       "      <th>order_details_id</th>\n",
       "      <th>order_id</th>\n",
       "      <th>pizza_id</th>\n",
       "      <th>quantity</th>\n",
       "      <th>order_date</th>\n",
       "      <th>order_time</th>\n",
       "      <th>unit_price</th>\n",
       "      <th>total_price</th>\n",
       "      <th>pizza_size</th>\n",
       "      <th>pizza_category</th>\n",
       "      <th>pizza_ingredients</th>\n",
       "      <th>pizza_name</th>\n",
       "      <th>day_of_week</th>\n",
       "      <th>day_name</th>\n",
       "    </tr>\n",
       "  </thead>\n",
       "  <tbody>\n",
       "    <tr>\n",
       "      <th>161</th>\n",
       "      <td>162</td>\n",
       "      <td>70</td>\n",
       "      <td>ital_veggie_s</td>\n",
       "      <td>1</td>\n",
       "      <td>2015-01-02</td>\n",
       "      <td>11:38:51</td>\n",
       "      <td>12.75</td>\n",
       "      <td>12.75</td>\n",
       "      <td>S</td>\n",
       "      <td>Veggie</td>\n",
       "      <td>Eggplant, Artichokes, Tomatoes, Zucchini, Red ...</td>\n",
       "      <td>The Italian Vegetables Pizza</td>\n",
       "      <td>4</td>\n",
       "      <td>Friday</td>\n",
       "    </tr>\n",
       "    <tr>\n",
       "      <th>162</th>\n",
       "      <td>163</td>\n",
       "      <td>70</td>\n",
       "      <td>soppressata_l</td>\n",
       "      <td>1</td>\n",
       "      <td>2015-01-02</td>\n",
       "      <td>11:38:51</td>\n",
       "      <td>20.75</td>\n",
       "      <td>20.75</td>\n",
       "      <td>L</td>\n",
       "      <td>Supreme</td>\n",
       "      <td>Soppressata Salami, Fontina Cheese, Mozzarella...</td>\n",
       "      <td>The Soppressata Pizza</td>\n",
       "      <td>4</td>\n",
       "      <td>Friday</td>\n",
       "    </tr>\n",
       "    <tr>\n",
       "      <th>163</th>\n",
       "      <td>164</td>\n",
       "      <td>71</td>\n",
       "      <td>thai_ckn_l</td>\n",
       "      <td>1</td>\n",
       "      <td>2015-01-02</td>\n",
       "      <td>11:40:50</td>\n",
       "      <td>20.75</td>\n",
       "      <td>20.75</td>\n",
       "      <td>L</td>\n",
       "      <td>Chicken</td>\n",
       "      <td>Chicken, Pineapple, Tomatoes, Red Peppers, Tha...</td>\n",
       "      <td>The Thai Chicken Pizza</td>\n",
       "      <td>4</td>\n",
       "      <td>Friday</td>\n",
       "    </tr>\n",
       "    <tr>\n",
       "      <th>164</th>\n",
       "      <td>165</td>\n",
       "      <td>72</td>\n",
       "      <td>spinach_fet_l</td>\n",
       "      <td>1</td>\n",
       "      <td>2015-01-02</td>\n",
       "      <td>11:57:25</td>\n",
       "      <td>20.25</td>\n",
       "      <td>20.25</td>\n",
       "      <td>L</td>\n",
       "      <td>Veggie</td>\n",
       "      <td>Spinach, Mushrooms, Red Onions, Feta Cheese, G...</td>\n",
       "      <td>The Spinach and Feta Pizza</td>\n",
       "      <td>4</td>\n",
       "      <td>Friday</td>\n",
       "    </tr>\n",
       "    <tr>\n",
       "      <th>165</th>\n",
       "      <td>166</td>\n",
       "      <td>73</td>\n",
       "      <td>thai_ckn_s</td>\n",
       "      <td>1</td>\n",
       "      <td>2015-01-02</td>\n",
       "      <td>11:58:56</td>\n",
       "      <td>12.75</td>\n",
       "      <td>12.75</td>\n",
       "      <td>S</td>\n",
       "      <td>Chicken</td>\n",
       "      <td>Chicken, Pineapple, Tomatoes, Red Peppers, Tha...</td>\n",
       "      <td>The Thai Chicken Pizza</td>\n",
       "      <td>4</td>\n",
       "      <td>Friday</td>\n",
       "    </tr>\n",
       "    <tr>\n",
       "      <th>...</th>\n",
       "      <td>...</td>\n",
       "      <td>...</td>\n",
       "      <td>...</td>\n",
       "      <td>...</td>\n",
       "      <td>...</td>\n",
       "      <td>...</td>\n",
       "      <td>...</td>\n",
       "      <td>...</td>\n",
       "      <td>...</td>\n",
       "      <td>...</td>\n",
       "      <td>...</td>\n",
       "      <td>...</td>\n",
       "      <td>...</td>\n",
       "      <td>...</td>\n",
       "    </tr>\n",
       "    <tr>\n",
       "      <th>47252</th>\n",
       "      <td>47253</td>\n",
       "      <td>20767</td>\n",
       "      <td>cali_ckn_s</td>\n",
       "      <td>1</td>\n",
       "      <td>2015-12-18</td>\n",
       "      <td>22:05:48</td>\n",
       "      <td>12.75</td>\n",
       "      <td>12.75</td>\n",
       "      <td>S</td>\n",
       "      <td>Chicken</td>\n",
       "      <td>Chicken, Artichoke, Spinach, Garlic, Jalapeno ...</td>\n",
       "      <td>The California Chicken Pizza</td>\n",
       "      <td>4</td>\n",
       "      <td>Friday</td>\n",
       "    </tr>\n",
       "    <tr>\n",
       "      <th>47253</th>\n",
       "      <td>47254</td>\n",
       "      <td>20767</td>\n",
       "      <td>sicilian_s</td>\n",
       "      <td>1</td>\n",
       "      <td>2015-12-18</td>\n",
       "      <td>22:05:48</td>\n",
       "      <td>12.25</td>\n",
       "      <td>12.25</td>\n",
       "      <td>S</td>\n",
       "      <td>Supreme</td>\n",
       "      <td>Coarse Sicilian Salami, Tomatoes, Green Olives...</td>\n",
       "      <td>The Sicilian Pizza</td>\n",
       "      <td>4</td>\n",
       "      <td>Friday</td>\n",
       "    </tr>\n",
       "    <tr>\n",
       "      <th>47254</th>\n",
       "      <td>47255</td>\n",
       "      <td>20768</td>\n",
       "      <td>big_meat_s</td>\n",
       "      <td>1</td>\n",
       "      <td>2015-12-18</td>\n",
       "      <td>22:06:22</td>\n",
       "      <td>12.00</td>\n",
       "      <td>12.00</td>\n",
       "      <td>S</td>\n",
       "      <td>Classic</td>\n",
       "      <td>Bacon, Pepperoni, Italian Sausage, Chorizo Sau...</td>\n",
       "      <td>The Big Meat Pizza</td>\n",
       "      <td>4</td>\n",
       "      <td>Friday</td>\n",
       "    </tr>\n",
       "    <tr>\n",
       "      <th>47255</th>\n",
       "      <td>47256</td>\n",
       "      <td>20769</td>\n",
       "      <td>classic_dlx_m</td>\n",
       "      <td>1</td>\n",
       "      <td>2015-12-18</td>\n",
       "      <td>22:29:17</td>\n",
       "      <td>16.00</td>\n",
       "      <td>16.00</td>\n",
       "      <td>M</td>\n",
       "      <td>Classic</td>\n",
       "      <td>Pepperoni, Mushrooms, Red Onions, Red Peppers,...</td>\n",
       "      <td>The Classic Deluxe Pizza</td>\n",
       "      <td>4</td>\n",
       "      <td>Friday</td>\n",
       "    </tr>\n",
       "    <tr>\n",
       "      <th>47256</th>\n",
       "      <td>47257</td>\n",
       "      <td>20769</td>\n",
       "      <td>four_cheese_m</td>\n",
       "      <td>1</td>\n",
       "      <td>2015-12-18</td>\n",
       "      <td>22:29:17</td>\n",
       "      <td>14.75</td>\n",
       "      <td>14.75</td>\n",
       "      <td>M</td>\n",
       "      <td>Veggie</td>\n",
       "      <td>Ricotta Cheese, Gorgonzola Piccante Cheese, Mo...</td>\n",
       "      <td>The Four Cheese Pizza</td>\n",
       "      <td>4</td>\n",
       "      <td>Friday</td>\n",
       "    </tr>\n",
       "  </tbody>\n",
       "</table>\n",
       "<p>8106 rows × 14 columns</p>\n",
       "</div>"
      ],
      "text/plain": [
       "       order_details_id  order_id       pizza_id  quantity order_date  \\\n",
       "161                 162        70  ital_veggie_s         1 2015-01-02   \n",
       "162                 163        70  soppressata_l         1 2015-01-02   \n",
       "163                 164        71     thai_ckn_l         1 2015-01-02   \n",
       "164                 165        72  spinach_fet_l         1 2015-01-02   \n",
       "165                 166        73     thai_ckn_s         1 2015-01-02   \n",
       "...                 ...       ...            ...       ...        ...   \n",
       "47252             47253     20767     cali_ckn_s         1 2015-12-18   \n",
       "47253             47254     20767     sicilian_s         1 2015-12-18   \n",
       "47254             47255     20768     big_meat_s         1 2015-12-18   \n",
       "47255             47256     20769  classic_dlx_m         1 2015-12-18   \n",
       "47256             47257     20769  four_cheese_m         1 2015-12-18   \n",
       "\n",
       "      order_time  unit_price  total_price pizza_size pizza_category  \\\n",
       "161     11:38:51       12.75        12.75          S         Veggie   \n",
       "162     11:38:51       20.75        20.75          L        Supreme   \n",
       "163     11:40:50       20.75        20.75          L        Chicken   \n",
       "164     11:57:25       20.25        20.25          L         Veggie   \n",
       "165     11:58:56       12.75        12.75          S        Chicken   \n",
       "...          ...         ...          ...        ...            ...   \n",
       "47252   22:05:48       12.75        12.75          S        Chicken   \n",
       "47253   22:05:48       12.25        12.25          S        Supreme   \n",
       "47254   22:06:22       12.00        12.00          S        Classic   \n",
       "47255   22:29:17       16.00        16.00          M        Classic   \n",
       "47256   22:29:17       14.75        14.75          M         Veggie   \n",
       "\n",
       "                                       pizza_ingredients  \\\n",
       "161    Eggplant, Artichokes, Tomatoes, Zucchini, Red ...   \n",
       "162    Soppressata Salami, Fontina Cheese, Mozzarella...   \n",
       "163    Chicken, Pineapple, Tomatoes, Red Peppers, Tha...   \n",
       "164    Spinach, Mushrooms, Red Onions, Feta Cheese, G...   \n",
       "165    Chicken, Pineapple, Tomatoes, Red Peppers, Tha...   \n",
       "...                                                  ...   \n",
       "47252  Chicken, Artichoke, Spinach, Garlic, Jalapeno ...   \n",
       "47253  Coarse Sicilian Salami, Tomatoes, Green Olives...   \n",
       "47254  Bacon, Pepperoni, Italian Sausage, Chorizo Sau...   \n",
       "47255  Pepperoni, Mushrooms, Red Onions, Red Peppers,...   \n",
       "47256  Ricotta Cheese, Gorgonzola Piccante Cheese, Mo...   \n",
       "\n",
       "                         pizza_name  day_of_week day_name  \n",
       "161    The Italian Vegetables Pizza            4   Friday  \n",
       "162           The Soppressata Pizza            4   Friday  \n",
       "163          The Thai Chicken Pizza            4   Friday  \n",
       "164      The Spinach and Feta Pizza            4   Friday  \n",
       "165          The Thai Chicken Pizza            4   Friday  \n",
       "...                             ...          ...      ...  \n",
       "47252  The California Chicken Pizza            4   Friday  \n",
       "47253            The Sicilian Pizza            4   Friday  \n",
       "47254            The Big Meat Pizza            4   Friday  \n",
       "47255      The Classic Deluxe Pizza            4   Friday  \n",
       "47256         The Four Cheese Pizza            4   Friday  \n",
       "\n",
       "[8106 rows x 14 columns]"
      ]
     },
     "execution_count": 14,
     "metadata": {},
     "output_type": "execute_result"
    }
   ],
   "source": [
    "# Now we look to investigate Friday times.\n",
    "friday_df = df[df.day_name == 'Friday']\n",
    "friday_df"
   ]
  },
  {
   "cell_type": "code",
   "execution_count": 15,
   "id": "bd26af2e",
   "metadata": {},
   "outputs": [
    {
     "name": "stdout",
     "output_type": "stream",
     "text": [
      "[ 0  2  4  6  8 10 12 14 16 18 20 22 24]\n"
     ]
    },
    {
     "name": "stderr",
     "output_type": "stream",
     "text": [
      "C:\\Users\\User\\AppData\\Local\\Temp\\ipykernel_11976\\2265003301.py:2: UserWarning: Pandas doesn't allow columns to be created via a new attribute name - see https://pandas.pydata.org/pandas-docs/stable/indexing.html#attribute-access\n",
      "  friday_df.order_dummydatetime = pd.to_datetime(friday_df.order_time, format = '%H:%M:%S')\n",
      "C:\\Users\\User\\AppData\\Local\\Temp\\ipykernel_11976\\2265003301.py:13: SettingWithCopyWarning: \n",
      "A value is trying to be set on a copy of a slice from a DataFrame.\n",
      "Try using .loc[row_indexer,col_indexer] = value instead\n",
      "\n",
      "See the caveats in the documentation: https://pandas.pydata.org/pandas-docs/stable/user_guide/indexing.html#returning-a-view-versus-a-copy\n",
      "  friday_df['time_bin'] = pd.cut(friday_df.order_dummydatetime.dt.hour, bins, labels=labels, right=False)\n"
     ]
    }
   ],
   "source": [
    "# Convert order_time into datetime data type\n",
    "friday_df.order_dummydatetime = pd.to_datetime(friday_df.order_time, format = '%H:%M:%S')\n",
    "\n",
    "# Define the bins\n",
    "bins = np.arange(0,26,2)\n",
    "print(bins)\n",
    "\n",
    "# Add labels (12 bins, each bin represents 2 hours window)\n",
    "labels = ['00:00-01:59', '02:00-03:59', '04:00-05:59', '06:00-07:59','08:00-09:59','10:00-11:59',\n",
    "         '12:00-13:59', '14:00-15:59', '16:00-17:59','18:00-19:59','20:00-21:59','22:00-23:59']\n",
    "\n",
    "# Add the bins to friday_df\n",
    "friday_df['time_bin'] = pd.cut(friday_df.order_dummydatetime.dt.hour, bins, labels=labels, right=False)"
   ]
  },
  {
   "cell_type": "code",
   "execution_count": 16,
   "id": "77001a9c",
   "metadata": {},
   "outputs": [
    {
     "data": {
      "text/html": [
       "<div>\n",
       "<style scoped>\n",
       "    .dataframe tbody tr th:only-of-type {\n",
       "        vertical-align: middle;\n",
       "    }\n",
       "\n",
       "    .dataframe tbody tr th {\n",
       "        vertical-align: top;\n",
       "    }\n",
       "\n",
       "    .dataframe thead th {\n",
       "        text-align: right;\n",
       "    }\n",
       "</style>\n",
       "<table border=\"1\" class=\"dataframe\">\n",
       "  <thead>\n",
       "    <tr style=\"text-align: right;\">\n",
       "      <th></th>\n",
       "      <th>order_details_id</th>\n",
       "      <th>order_id</th>\n",
       "      <th>pizza_id</th>\n",
       "      <th>quantity</th>\n",
       "      <th>order_date</th>\n",
       "      <th>order_time</th>\n",
       "      <th>unit_price</th>\n",
       "      <th>total_price</th>\n",
       "      <th>pizza_size</th>\n",
       "      <th>pizza_category</th>\n",
       "      <th>pizza_ingredients</th>\n",
       "      <th>pizza_name</th>\n",
       "      <th>day_of_week</th>\n",
       "      <th>day_name</th>\n",
       "      <th>time_bin</th>\n",
       "    </tr>\n",
       "  </thead>\n",
       "  <tbody>\n",
       "    <tr>\n",
       "      <th>161</th>\n",
       "      <td>162</td>\n",
       "      <td>70</td>\n",
       "      <td>ital_veggie_s</td>\n",
       "      <td>1</td>\n",
       "      <td>2015-01-02</td>\n",
       "      <td>11:38:51</td>\n",
       "      <td>12.75</td>\n",
       "      <td>12.75</td>\n",
       "      <td>S</td>\n",
       "      <td>Veggie</td>\n",
       "      <td>Eggplant, Artichokes, Tomatoes, Zucchini, Red ...</td>\n",
       "      <td>The Italian Vegetables Pizza</td>\n",
       "      <td>4</td>\n",
       "      <td>Friday</td>\n",
       "      <td>10:00-11:59</td>\n",
       "    </tr>\n",
       "    <tr>\n",
       "      <th>162</th>\n",
       "      <td>163</td>\n",
       "      <td>70</td>\n",
       "      <td>soppressata_l</td>\n",
       "      <td>1</td>\n",
       "      <td>2015-01-02</td>\n",
       "      <td>11:38:51</td>\n",
       "      <td>20.75</td>\n",
       "      <td>20.75</td>\n",
       "      <td>L</td>\n",
       "      <td>Supreme</td>\n",
       "      <td>Soppressata Salami, Fontina Cheese, Mozzarella...</td>\n",
       "      <td>The Soppressata Pizza</td>\n",
       "      <td>4</td>\n",
       "      <td>Friday</td>\n",
       "      <td>10:00-11:59</td>\n",
       "    </tr>\n",
       "    <tr>\n",
       "      <th>163</th>\n",
       "      <td>164</td>\n",
       "      <td>71</td>\n",
       "      <td>thai_ckn_l</td>\n",
       "      <td>1</td>\n",
       "      <td>2015-01-02</td>\n",
       "      <td>11:40:50</td>\n",
       "      <td>20.75</td>\n",
       "      <td>20.75</td>\n",
       "      <td>L</td>\n",
       "      <td>Chicken</td>\n",
       "      <td>Chicken, Pineapple, Tomatoes, Red Peppers, Tha...</td>\n",
       "      <td>The Thai Chicken Pizza</td>\n",
       "      <td>4</td>\n",
       "      <td>Friday</td>\n",
       "      <td>10:00-11:59</td>\n",
       "    </tr>\n",
       "    <tr>\n",
       "      <th>164</th>\n",
       "      <td>165</td>\n",
       "      <td>72</td>\n",
       "      <td>spinach_fet_l</td>\n",
       "      <td>1</td>\n",
       "      <td>2015-01-02</td>\n",
       "      <td>11:57:25</td>\n",
       "      <td>20.25</td>\n",
       "      <td>20.25</td>\n",
       "      <td>L</td>\n",
       "      <td>Veggie</td>\n",
       "      <td>Spinach, Mushrooms, Red Onions, Feta Cheese, G...</td>\n",
       "      <td>The Spinach and Feta Pizza</td>\n",
       "      <td>4</td>\n",
       "      <td>Friday</td>\n",
       "      <td>10:00-11:59</td>\n",
       "    </tr>\n",
       "    <tr>\n",
       "      <th>165</th>\n",
       "      <td>166</td>\n",
       "      <td>73</td>\n",
       "      <td>thai_ckn_s</td>\n",
       "      <td>1</td>\n",
       "      <td>2015-01-02</td>\n",
       "      <td>11:58:56</td>\n",
       "      <td>12.75</td>\n",
       "      <td>12.75</td>\n",
       "      <td>S</td>\n",
       "      <td>Chicken</td>\n",
       "      <td>Chicken, Pineapple, Tomatoes, Red Peppers, Tha...</td>\n",
       "      <td>The Thai Chicken Pizza</td>\n",
       "      <td>4</td>\n",
       "      <td>Friday</td>\n",
       "      <td>10:00-11:59</td>\n",
       "    </tr>\n",
       "    <tr>\n",
       "      <th>...</th>\n",
       "      <td>...</td>\n",
       "      <td>...</td>\n",
       "      <td>...</td>\n",
       "      <td>...</td>\n",
       "      <td>...</td>\n",
       "      <td>...</td>\n",
       "      <td>...</td>\n",
       "      <td>...</td>\n",
       "      <td>...</td>\n",
       "      <td>...</td>\n",
       "      <td>...</td>\n",
       "      <td>...</td>\n",
       "      <td>...</td>\n",
       "      <td>...</td>\n",
       "      <td>...</td>\n",
       "    </tr>\n",
       "    <tr>\n",
       "      <th>47252</th>\n",
       "      <td>47253</td>\n",
       "      <td>20767</td>\n",
       "      <td>cali_ckn_s</td>\n",
       "      <td>1</td>\n",
       "      <td>2015-12-18</td>\n",
       "      <td>22:05:48</td>\n",
       "      <td>12.75</td>\n",
       "      <td>12.75</td>\n",
       "      <td>S</td>\n",
       "      <td>Chicken</td>\n",
       "      <td>Chicken, Artichoke, Spinach, Garlic, Jalapeno ...</td>\n",
       "      <td>The California Chicken Pizza</td>\n",
       "      <td>4</td>\n",
       "      <td>Friday</td>\n",
       "      <td>22:00-23:59</td>\n",
       "    </tr>\n",
       "    <tr>\n",
       "      <th>47253</th>\n",
       "      <td>47254</td>\n",
       "      <td>20767</td>\n",
       "      <td>sicilian_s</td>\n",
       "      <td>1</td>\n",
       "      <td>2015-12-18</td>\n",
       "      <td>22:05:48</td>\n",
       "      <td>12.25</td>\n",
       "      <td>12.25</td>\n",
       "      <td>S</td>\n",
       "      <td>Supreme</td>\n",
       "      <td>Coarse Sicilian Salami, Tomatoes, Green Olives...</td>\n",
       "      <td>The Sicilian Pizza</td>\n",
       "      <td>4</td>\n",
       "      <td>Friday</td>\n",
       "      <td>22:00-23:59</td>\n",
       "    </tr>\n",
       "    <tr>\n",
       "      <th>47254</th>\n",
       "      <td>47255</td>\n",
       "      <td>20768</td>\n",
       "      <td>big_meat_s</td>\n",
       "      <td>1</td>\n",
       "      <td>2015-12-18</td>\n",
       "      <td>22:06:22</td>\n",
       "      <td>12.00</td>\n",
       "      <td>12.00</td>\n",
       "      <td>S</td>\n",
       "      <td>Classic</td>\n",
       "      <td>Bacon, Pepperoni, Italian Sausage, Chorizo Sau...</td>\n",
       "      <td>The Big Meat Pizza</td>\n",
       "      <td>4</td>\n",
       "      <td>Friday</td>\n",
       "      <td>22:00-23:59</td>\n",
       "    </tr>\n",
       "    <tr>\n",
       "      <th>47255</th>\n",
       "      <td>47256</td>\n",
       "      <td>20769</td>\n",
       "      <td>classic_dlx_m</td>\n",
       "      <td>1</td>\n",
       "      <td>2015-12-18</td>\n",
       "      <td>22:29:17</td>\n",
       "      <td>16.00</td>\n",
       "      <td>16.00</td>\n",
       "      <td>M</td>\n",
       "      <td>Classic</td>\n",
       "      <td>Pepperoni, Mushrooms, Red Onions, Red Peppers,...</td>\n",
       "      <td>The Classic Deluxe Pizza</td>\n",
       "      <td>4</td>\n",
       "      <td>Friday</td>\n",
       "      <td>22:00-23:59</td>\n",
       "    </tr>\n",
       "    <tr>\n",
       "      <th>47256</th>\n",
       "      <td>47257</td>\n",
       "      <td>20769</td>\n",
       "      <td>four_cheese_m</td>\n",
       "      <td>1</td>\n",
       "      <td>2015-12-18</td>\n",
       "      <td>22:29:17</td>\n",
       "      <td>14.75</td>\n",
       "      <td>14.75</td>\n",
       "      <td>M</td>\n",
       "      <td>Veggie</td>\n",
       "      <td>Ricotta Cheese, Gorgonzola Piccante Cheese, Mo...</td>\n",
       "      <td>The Four Cheese Pizza</td>\n",
       "      <td>4</td>\n",
       "      <td>Friday</td>\n",
       "      <td>22:00-23:59</td>\n",
       "    </tr>\n",
       "  </tbody>\n",
       "</table>\n",
       "<p>8106 rows × 15 columns</p>\n",
       "</div>"
      ],
      "text/plain": [
       "       order_details_id  order_id       pizza_id  quantity order_date  \\\n",
       "161                 162        70  ital_veggie_s         1 2015-01-02   \n",
       "162                 163        70  soppressata_l         1 2015-01-02   \n",
       "163                 164        71     thai_ckn_l         1 2015-01-02   \n",
       "164                 165        72  spinach_fet_l         1 2015-01-02   \n",
       "165                 166        73     thai_ckn_s         1 2015-01-02   \n",
       "...                 ...       ...            ...       ...        ...   \n",
       "47252             47253     20767     cali_ckn_s         1 2015-12-18   \n",
       "47253             47254     20767     sicilian_s         1 2015-12-18   \n",
       "47254             47255     20768     big_meat_s         1 2015-12-18   \n",
       "47255             47256     20769  classic_dlx_m         1 2015-12-18   \n",
       "47256             47257     20769  four_cheese_m         1 2015-12-18   \n",
       "\n",
       "      order_time  unit_price  total_price pizza_size pizza_category  \\\n",
       "161     11:38:51       12.75        12.75          S         Veggie   \n",
       "162     11:38:51       20.75        20.75          L        Supreme   \n",
       "163     11:40:50       20.75        20.75          L        Chicken   \n",
       "164     11:57:25       20.25        20.25          L         Veggie   \n",
       "165     11:58:56       12.75        12.75          S        Chicken   \n",
       "...          ...         ...          ...        ...            ...   \n",
       "47252   22:05:48       12.75        12.75          S        Chicken   \n",
       "47253   22:05:48       12.25        12.25          S        Supreme   \n",
       "47254   22:06:22       12.00        12.00          S        Classic   \n",
       "47255   22:29:17       16.00        16.00          M        Classic   \n",
       "47256   22:29:17       14.75        14.75          M         Veggie   \n",
       "\n",
       "                                       pizza_ingredients  \\\n",
       "161    Eggplant, Artichokes, Tomatoes, Zucchini, Red ...   \n",
       "162    Soppressata Salami, Fontina Cheese, Mozzarella...   \n",
       "163    Chicken, Pineapple, Tomatoes, Red Peppers, Tha...   \n",
       "164    Spinach, Mushrooms, Red Onions, Feta Cheese, G...   \n",
       "165    Chicken, Pineapple, Tomatoes, Red Peppers, Tha...   \n",
       "...                                                  ...   \n",
       "47252  Chicken, Artichoke, Spinach, Garlic, Jalapeno ...   \n",
       "47253  Coarse Sicilian Salami, Tomatoes, Green Olives...   \n",
       "47254  Bacon, Pepperoni, Italian Sausage, Chorizo Sau...   \n",
       "47255  Pepperoni, Mushrooms, Red Onions, Red Peppers,...   \n",
       "47256  Ricotta Cheese, Gorgonzola Piccante Cheese, Mo...   \n",
       "\n",
       "                         pizza_name  day_of_week day_name     time_bin  \n",
       "161    The Italian Vegetables Pizza            4   Friday  10:00-11:59  \n",
       "162           The Soppressata Pizza            4   Friday  10:00-11:59  \n",
       "163          The Thai Chicken Pizza            4   Friday  10:00-11:59  \n",
       "164      The Spinach and Feta Pizza            4   Friday  10:00-11:59  \n",
       "165          The Thai Chicken Pizza            4   Friday  10:00-11:59  \n",
       "...                             ...          ...      ...          ...  \n",
       "47252  The California Chicken Pizza            4   Friday  22:00-23:59  \n",
       "47253            The Sicilian Pizza            4   Friday  22:00-23:59  \n",
       "47254            The Big Meat Pizza            4   Friday  22:00-23:59  \n",
       "47255      The Classic Deluxe Pizza            4   Friday  22:00-23:59  \n",
       "47256         The Four Cheese Pizza            4   Friday  22:00-23:59  \n",
       "\n",
       "[8106 rows x 15 columns]"
      ]
     },
     "execution_count": 16,
     "metadata": {},
     "output_type": "execute_result"
    }
   ],
   "source": [
    "friday_df"
   ]
  },
  {
   "cell_type": "code",
   "execution_count": 17,
   "id": "d79b453e",
   "metadata": {},
   "outputs": [
    {
     "data": {
      "text/html": [
       "<div>\n",
       "<style scoped>\n",
       "    .dataframe tbody tr th:only-of-type {\n",
       "        vertical-align: middle;\n",
       "    }\n",
       "\n",
       "    .dataframe tbody tr th {\n",
       "        vertical-align: top;\n",
       "    }\n",
       "\n",
       "    .dataframe thead th {\n",
       "        text-align: right;\n",
       "    }\n",
       "</style>\n",
       "<table border=\"1\" class=\"dataframe\">\n",
       "  <thead>\n",
       "    <tr style=\"text-align: right;\">\n",
       "      <th></th>\n",
       "      <th>count</th>\n",
       "    </tr>\n",
       "    <tr>\n",
       "      <th>time_bin</th>\n",
       "      <th></th>\n",
       "    </tr>\n",
       "  </thead>\n",
       "  <tbody>\n",
       "    <tr>\n",
       "      <th>22:00-23:59</th>\n",
       "      <td>404</td>\n",
       "    </tr>\n",
       "    <tr>\n",
       "      <th>20:00-21:59</th>\n",
       "      <td>1308</td>\n",
       "    </tr>\n",
       "    <tr>\n",
       "      <th>18:00-19:59</th>\n",
       "      <td>1662</td>\n",
       "    </tr>\n",
       "    <tr>\n",
       "      <th>16:00-17:59</th>\n",
       "      <td>1324</td>\n",
       "    </tr>\n",
       "    <tr>\n",
       "      <th>14:00-15:59</th>\n",
       "      <td>945</td>\n",
       "    </tr>\n",
       "    <tr>\n",
       "      <th>12:00-13:59</th>\n",
       "      <td>2084</td>\n",
       "    </tr>\n",
       "    <tr>\n",
       "      <th>10:00-11:59</th>\n",
       "      <td>379</td>\n",
       "    </tr>\n",
       "    <tr>\n",
       "      <th>08:00-09:59</th>\n",
       "      <td>0</td>\n",
       "    </tr>\n",
       "    <tr>\n",
       "      <th>06:00-07:59</th>\n",
       "      <td>0</td>\n",
       "    </tr>\n",
       "    <tr>\n",
       "      <th>04:00-05:59</th>\n",
       "      <td>0</td>\n",
       "    </tr>\n",
       "    <tr>\n",
       "      <th>02:00-03:59</th>\n",
       "      <td>0</td>\n",
       "    </tr>\n",
       "    <tr>\n",
       "      <th>00:00-01:59</th>\n",
       "      <td>0</td>\n",
       "    </tr>\n",
       "  </tbody>\n",
       "</table>\n",
       "</div>"
      ],
      "text/plain": [
       "             count\n",
       "time_bin          \n",
       "22:00-23:59    404\n",
       "20:00-21:59   1308\n",
       "18:00-19:59   1662\n",
       "16:00-17:59   1324\n",
       "14:00-15:59    945\n",
       "12:00-13:59   2084\n",
       "10:00-11:59    379\n",
       "08:00-09:59      0\n",
       "06:00-07:59      0\n",
       "04:00-05:59      0\n",
       "02:00-03:59      0\n",
       "00:00-01:59      0"
      ]
     },
     "execution_count": 17,
     "metadata": {},
     "output_type": "execute_result"
    }
   ],
   "source": [
    "# The number of orders during each time bin\n",
    "orders_per_bin = pd.DataFrame(friday_df.time_bin.value_counts())\n",
    "orders_per_bin.reset_index(inplace=True)\n",
    "orders_per_bin.columns = ['time_bin','count']\n",
    "orders_per_bin['time_bin'] = pd.Categorical(orders_per_bin['time_bin'], categories=labels, ordered=True)\n",
    "sorted_df = orders_per_bin.sort_values('time_bin', ascending=False).reset_index(drop=True)\n",
    "\n",
    "# Display the DataFrame (sorted by time bins from 12am to 11:59pm)\n",
    "sorted_df.set_index(\"time_bin\", inplace=True)\n",
    "sorted_df"
   ]
  },
  {
   "cell_type": "code",
   "execution_count": 18,
   "id": "aea7902a",
   "metadata": {},
   "outputs": [
    {
     "data": {
      "image/png": "[encoded data removed]",
      "text/plain": [
       "<Figure size 1080x504 with 1 Axes>"
      ]
     },
     "metadata": {
      "needs_background": "light"
     },
     "output_type": "display_data"
    }
   ],
   "source": [
    "sorted_df.plot.barh(legend = False, figsize = (15,7), color = 'blue')\n",
    "plt.xlabel('Number of orders per time bin')\n",
    "plt.title(\"The peak times of the pizza restaurant on Fridays (number of orders from each time bin)\");"
   ]
  },
  {
   "cell_type": "code",
   "execution_count": 19,
   "id": "6e6051ba",
   "metadata": {},
   "outputs": [
    {
     "data": {
      "image/png": "[encoded data removed]",
      "text/plain": [
       "<Figure size 1080x504 with 1 Axes>"
      ]
     },
     "metadata": {
      "needs_background": "light"
     },
     "output_type": "display_data"
    }
   ],
   "source": [
    "# Revenue earned from each time bin\n",
    "revenue_friday_df = pd.DataFrame(friday_df.groupby('time_bin').total_price.sum())\n",
    "revenue_friday_df.reset_index(inplace=True)\n",
    "revenue_friday_df = revenue_friday_df.sort_values(\"time_bin\",ascending=False)\n",
    "revenue_friday_df.set_index(\"time_bin\").plot.barh(figsize = (15,7), legend = False, color = 'blue')\n",
    "plt.xlabel(\"Total revenue earned from each time bin\")\n",
    "plt.ylabel(\"Time bin\")\n",
    "plt.title(\"The peak times of the restaurant on Fridays (revenue earned from each time bin)\");"
   ]
  },
  {
   "cell_type": "markdown",
   "id": "154772c4",
   "metadata": {},
   "source": [
    "<div style=\"background-color: #efebe4; color: #05192d; text-align:left; vertical-align: middle; padding: 15px 25px 15px 25px; line-height: 1.6;\">\n",
    "\n",
    "- Peak day: **Friday**\n",
    "- Peak times: **12pm - 2pm**, **6pm - 8pm**\n",
    "- Number of pizza made in peak period (12pm - 2pm): **2084**"
   ]
  },
  {
   "cell_type": "markdown",
   "id": "51693984",
   "metadata": {},
   "source": [
    "### 6. What are our best and worst selling pizzas?"
   ]
  },
  {
   "cell_type": "code",
   "execution_count": 20,
   "id": "0544be8c",
   "metadata": {},
   "outputs": [
    {
     "name": "stdout",
     "output_type": "stream",
     "text": [
      "The best selling pizza is: The Classic Deluxe Pizza    2416\n",
      "Name: pizza_name, dtype: int64\n",
      "\n",
      "The worst selling pizza is : The Brie Carre Pizza    480\n",
      "Name: pizza_name, dtype: int64\n"
     ]
    }
   ],
   "source": [
    "print(f'The best selling pizza is: {df.pizza_name.value_counts().nlargest(1)}' '\\n')\n",
    "print(f'The worst selling pizza is : {df.pizza_name.value_counts().nsmallest(1)}')"
   ]
  },
  {
   "cell_type": "markdown",
   "id": "ec8ec7e0",
   "metadata": {},
   "source": [
    "### 7. What's our average order value?"
   ]
  },
  {
   "cell_type": "code",
   "execution_count": 21,
   "id": "5adf6420",
   "metadata": {},
   "outputs": [
    {
     "name": "stdout",
     "output_type": "stream",
     "text": [
      "Mean: USD 16.82\n",
      "Median: USD 16.50\n"
     ]
    }
   ],
   "source": [
    "print(f'Mean: USD {df.total_price.mean():.2f}')\n",
    "print(f'Median: USD {df.total_price.median():.2f}')"
   ]
  },
  {
   "cell_type": "markdown",
   "id": "56f744ea",
   "metadata": {},
   "source": [
    "### 8. What is the total revenue up to the latest order date?"
   ]
  },
  {
   "cell_type": "code",
   "execution_count": 22,
   "id": "60902cae",
   "metadata": {},
   "outputs": [
    {
     "data": {
      "text/plain": [
       "817860.05"
      ]
     },
     "execution_count": 22,
     "metadata": {},
     "output_type": "execute_result"
    }
   ],
   "source": [
    "df.total_price.sum()"
   ]
  },
  {
   "cell_type": "markdown",
   "id": "991bcf0a",
   "metadata": {},
   "source": [
    "### 9. What is the total number of orders up to the latest order date?"
   ]
  },
  {
   "cell_type": "code",
   "execution_count": 23,
   "id": "6ce25f4d",
   "metadata": {},
   "outputs": [
    {
     "data": {
      "text/plain": [
       "48620"
      ]
     },
     "execution_count": 23,
     "metadata": {},
     "output_type": "execute_result"
    }
   ],
   "source": [
    "len(df)"
   ]
  },
  {
   "cell_type": "markdown",
   "id": "6b191b88",
   "metadata": {},
   "source": [
    "### 10. Visualize the number of orders per day"
   ]
  },
  {
   "cell_type": "code",
   "execution_count": 24,
   "id": "5676dc1b",
   "metadata": {},
   "outputs": [
    {
     "data": {
      "text/html": [
       "<div>\n",
       "<style scoped>\n",
       "    .dataframe tbody tr th:only-of-type {\n",
       "        vertical-align: middle;\n",
       "    }\n",
       "\n",
       "    .dataframe tbody tr th {\n",
       "        vertical-align: top;\n",
       "    }\n",
       "\n",
       "    .dataframe thead th {\n",
       "        text-align: right;\n",
       "    }\n",
       "</style>\n",
       "<table border=\"1\" class=\"dataframe\">\n",
       "  <thead>\n",
       "    <tr style=\"text-align: right;\">\n",
       "      <th></th>\n",
       "      <th>order_id</th>\n",
       "    </tr>\n",
       "    <tr>\n",
       "      <th>order_date</th>\n",
       "      <th></th>\n",
       "    </tr>\n",
       "  </thead>\n",
       "  <tbody>\n",
       "    <tr>\n",
       "      <th>2015-11-26</th>\n",
       "      <td>261</td>\n",
       "    </tr>\n",
       "    <tr>\n",
       "      <th>2015-11-27</th>\n",
       "      <td>259</td>\n",
       "    </tr>\n",
       "    <tr>\n",
       "      <th>2015-10-15</th>\n",
       "      <td>258</td>\n",
       "    </tr>\n",
       "    <tr>\n",
       "      <th>2015-07-04</th>\n",
       "      <td>233</td>\n",
       "    </tr>\n",
       "    <tr>\n",
       "      <th>2015-07-03</th>\n",
       "      <td>207</td>\n",
       "    </tr>\n",
       "    <tr>\n",
       "      <th>...</th>\n",
       "      <td>...</td>\n",
       "    </tr>\n",
       "    <tr>\n",
       "      <th>2015-12-27</th>\n",
       "      <td>87</td>\n",
       "    </tr>\n",
       "    <tr>\n",
       "      <th>2015-11-22</th>\n",
       "      <td>82</td>\n",
       "    </tr>\n",
       "    <tr>\n",
       "      <th>2015-12-29</th>\n",
       "      <td>77</td>\n",
       "    </tr>\n",
       "    <tr>\n",
       "      <th>2015-03-22</th>\n",
       "      <td>76</td>\n",
       "    </tr>\n",
       "    <tr>\n",
       "      <th>2015-12-30</th>\n",
       "      <td>73</td>\n",
       "    </tr>\n",
       "  </tbody>\n",
       "</table>\n",
       "<p>358 rows × 1 columns</p>\n",
       "</div>"
      ],
      "text/plain": [
       "            order_id\n",
       "order_date          \n",
       "2015-11-26       261\n",
       "2015-11-27       259\n",
       "2015-10-15       258\n",
       "2015-07-04       233\n",
       "2015-07-03       207\n",
       "...              ...\n",
       "2015-12-27        87\n",
       "2015-11-22        82\n",
       "2015-12-29        77\n",
       "2015-03-22        76\n",
       "2015-12-30        73\n",
       "\n",
       "[358 rows x 1 columns]"
      ]
     },
     "execution_count": 24,
     "metadata": {},
     "output_type": "execute_result"
    }
   ],
   "source": [
    "df.groupby('order_date').agg({'order_id': 'count'}).sort_values('order_id', ascending=False)"
   ]
  },
  {
   "cell_type": "code",
   "execution_count": 25,
   "id": "88e7f841",
   "metadata": {},
   "outputs": [
    {
     "data": {
      "image/png": "[encoded data removed]",
      "text/plain": [
       "<Figure size 1080x504 with 1 Axes>"
      ]
     },
     "metadata": {
      "needs_background": "light"
     },
     "output_type": "display_data"
    }
   ],
   "source": [
    "df.groupby('order_date').agg({'order_id': 'count'}).plot(kind = 'line', figsize=(15,7), legend=False, color=\"blue\")\n",
    "plt.ylabel('Number of orders')\n",
    "plt.title('Number of orders per day');"
   ]
  },
  {
   "cell_type": "markdown",
   "id": "5cb64709",
   "metadata": {},
   "source": [
    "### 11. Visualize revenue earned per day"
   ]
  },
  {
   "cell_type": "code",
   "execution_count": 26,
   "id": "7e8f3bda",
   "metadata": {},
   "outputs": [
    {
     "data": {
      "image/png": "[encoded data removed]",
      "text/plain": [
       "<Figure size 1080x504 with 1 Axes>"
      ]
     },
     "metadata": {
      "needs_background": "light"
     },
     "output_type": "display_data"
    }
   ],
   "source": [
    "df.groupby('order_date').agg({'total_price': 'sum'}).plot(kind = 'line', figsize=(15,7), legend=False, color=\"blue\")\n",
    "plt.ylabel('Revenue')\n",
    "plt.title('Revenue per day');"
   ]
  },
  {
   "cell_type": "markdown",
   "id": "a70ee9d4",
   "metadata": {},
   "source": [
    "### 12. Which month was revenue earned the highest?"
   ]
  },
  {
   "cell_type": "code",
   "execution_count": 27,
   "id": "1628d3ce",
   "metadata": {},
   "outputs": [
    {
     "data": {
      "text/html": [
       "<div>\n",
       "<style scoped>\n",
       "    .dataframe tbody tr th:only-of-type {\n",
       "        vertical-align: middle;\n",
       "    }\n",
       "\n",
       "    .dataframe tbody tr th {\n",
       "        vertical-align: top;\n",
       "    }\n",
       "\n",
       "    .dataframe thead th {\n",
       "        text-align: right;\n",
       "    }\n",
       "</style>\n",
       "<table border=\"1\" class=\"dataframe\">\n",
       "  <thead>\n",
       "    <tr style=\"text-align: right;\">\n",
       "      <th></th>\n",
       "      <th>month</th>\n",
       "      <th>month_name</th>\n",
       "      <th>total_price</th>\n",
       "      <th>rank</th>\n",
       "    </tr>\n",
       "  </thead>\n",
       "  <tbody>\n",
       "    <tr>\n",
       "      <th>0</th>\n",
       "      <td>10</td>\n",
       "      <td>October</td>\n",
       "      <td>64027.60</td>\n",
       "      <td>12.0</td>\n",
       "    </tr>\n",
       "    <tr>\n",
       "      <th>1</th>\n",
       "      <td>9</td>\n",
       "      <td>September</td>\n",
       "      <td>64180.05</td>\n",
       "      <td>11.0</td>\n",
       "    </tr>\n",
       "    <tr>\n",
       "      <th>2</th>\n",
       "      <td>12</td>\n",
       "      <td>December</td>\n",
       "      <td>64701.15</td>\n",
       "      <td>10.0</td>\n",
       "    </tr>\n",
       "    <tr>\n",
       "      <th>3</th>\n",
       "      <td>2</td>\n",
       "      <td>February</td>\n",
       "      <td>65159.60</td>\n",
       "      <td>9.0</td>\n",
       "    </tr>\n",
       "    <tr>\n",
       "      <th>4</th>\n",
       "      <td>6</td>\n",
       "      <td>June</td>\n",
       "      <td>68230.20</td>\n",
       "      <td>8.0</td>\n",
       "    </tr>\n",
       "    <tr>\n",
       "      <th>5</th>\n",
       "      <td>8</td>\n",
       "      <td>August</td>\n",
       "      <td>68278.25</td>\n",
       "      <td>7.0</td>\n",
       "    </tr>\n",
       "    <tr>\n",
       "      <th>6</th>\n",
       "      <td>4</td>\n",
       "      <td>April</td>\n",
       "      <td>68736.80</td>\n",
       "      <td>6.0</td>\n",
       "    </tr>\n",
       "    <tr>\n",
       "      <th>7</th>\n",
       "      <td>1</td>\n",
       "      <td>January</td>\n",
       "      <td>69793.30</td>\n",
       "      <td>5.0</td>\n",
       "    </tr>\n",
       "    <tr>\n",
       "      <th>8</th>\n",
       "      <td>11</td>\n",
       "      <td>November</td>\n",
       "      <td>70395.35</td>\n",
       "      <td>4.0</td>\n",
       "    </tr>\n",
       "    <tr>\n",
       "      <th>9</th>\n",
       "      <td>3</td>\n",
       "      <td>March</td>\n",
       "      <td>70397.10</td>\n",
       "      <td>3.0</td>\n",
       "    </tr>\n",
       "    <tr>\n",
       "      <th>10</th>\n",
       "      <td>5</td>\n",
       "      <td>May</td>\n",
       "      <td>71402.75</td>\n",
       "      <td>2.0</td>\n",
       "    </tr>\n",
       "    <tr>\n",
       "      <th>11</th>\n",
       "      <td>7</td>\n",
       "      <td>July</td>\n",
       "      <td>72557.90</td>\n",
       "      <td>1.0</td>\n",
       "    </tr>\n",
       "  </tbody>\n",
       "</table>\n",
       "</div>"
      ],
      "text/plain": [
       "    month month_name  total_price  rank\n",
       "0      10    October     64027.60  12.0\n",
       "1       9  September     64180.05  11.0\n",
       "2      12   December     64701.15  10.0\n",
       "3       2   February     65159.60   9.0\n",
       "4       6       June     68230.20   8.0\n",
       "5       8     August     68278.25   7.0\n",
       "6       4      April     68736.80   6.0\n",
       "7       1    January     69793.30   5.0\n",
       "8      11   November     70395.35   4.0\n",
       "9       3      March     70397.10   3.0\n",
       "10      5        May     71402.75   2.0\n",
       "11      7       July     72557.90   1.0"
      ]
     },
     "execution_count": 27,
     "metadata": {},
     "output_type": "execute_result"
    }
   ],
   "source": [
    "# Extract the month and month_name from order_date\n",
    "month = []\n",
    "month_name = []\n",
    "for i in df.order_date:\n",
    "    # 1 = January, 2 = February, ..., 12 = December\n",
    "    month.append(i.month)\n",
    "    \n",
    "    # January, February, ..., December\n",
    "    month_name.append(i.month_name())\n",
    "    \n",
    "df['month'] = month\n",
    "df['month_name'] = month_name\n",
    "total_revenue = df.total_price.sum() # total revenue = sum of prices of all orders\n",
    "\n",
    "# Create a colormap from red to yellow\n",
    "cmap = mcolors.LinearSegmentedColormap.from_list(\"\", [\"green\", \"yellow\", \"red\"])\n",
    "\n",
    "# Find the total revenue by each month using groupby\n",
    "revenue_per_month_df = df.groupby(['month', 'month_name']).agg({'total_price': 'sum'})\n",
    "\n",
    "# Rank the monthly total revenue from highest to lowest\n",
    "revenue_per_month_df['rank'] = revenue_per_month_df['total_price'].rank(method=\"dense\", ascending=False)\n",
    "\n",
    "# Sort from the lowest revenue to the highest revenue\n",
    "revenue_per_month_df = revenue_per_month_df.sort_values('rank', ascending=False).reset_index()\n",
    "revenue_per_month_df"
   ]
  },
  {
   "cell_type": "code",
   "execution_count": 28,
   "id": "cb1b8c38",
   "metadata": {},
   "outputs": [
    {
     "data": {
      "image/png": "[encoded data removed]",
      "text/plain": [
       "<Figure size 1080x504 with 1 Axes>"
      ]
     },
     "metadata": {
      "needs_background": "light"
     },
     "output_type": "display_data"
    }
   ],
   "source": [
    "# Plot the bar chart\n",
    "fig, ax = plt.subplots(figsize = (15,7))\n",
    "ax.barh(revenue_per_month_df.month_name, revenue_per_month_df['total_price'],\n",
    "        color=cmap(revenue_per_month_df['rank']/12))\n",
    "ax.set_ylabel('Month')\n",
    "ax.set_xlabel('Revenue earned by month')\n",
    "ax.set_title('Monthly revenue in 2015 (from highest to lowest)')\n",
    "\n",
    "# Annotation: iterating over the bars one-by-one\n",
    "for i, bar in enumerate(ax.patches):\n",
    "    ax.annotate(f\"USD {revenue_per_month_df['total_price'][i]:.2f} ({bar.get_width() / total_revenue:.2%})\",\n",
    "                   (bar.get_width(), bar.get_y() + bar.get_height() / 2),\n",
    "                    ha='center', va='center',\n",
    "                   size=14, xytext=(-100, 0),\n",
    "                   textcoords='offset points', color = 'navy', fontweight = 400)\n",
    "    \n",
    "# Hide the right and top spines\n",
    "ax.spines[['right', 'top']].set_visible(False);"
   ]
  },
  {
   "cell_type": "markdown",
   "id": "e29128fc",
   "metadata": {},
   "source": [
    "# 💡 Conclusion 💡"
   ]
  },
  {
   "cell_type": "markdown",
   "id": "b17278e0",
   "metadata": {},
   "source": [
    "<div style=\"background-color: #efebe4; color: #05192d; text-align:left; vertical-align: middle; padding: 15px 25px 15px 25px; line-height: 1.6;\">\n",
    "    \n",
    "<h3>1. For each order, what is their total price?</h3>\n",
    "    <p style = \"font-size: 16px;line-height: 0.05; padding-left: 20px\">Most customers place an order with prices around USD 10 to USD 25.</p>\n",
    "<h3>2. Which size of pizza is ordered the most?</h3>\n",
    "    <p style = \"font-size: 16px;line-height: 0.05; padding-left: 20px\">Large</p>\n",
    "<h3>3. Which category of pizza is ordered the most?</h3>\n",
    "    <p style = \"font-size: 16px;line-height: 0.05; padding-left: 20px\">Classic</p>\n",
    "<h3>4. What days and times do we tend to be busiest?</h3>\n",
    "    <p style = \"font-size: 16px;line-height: 0.05; padding-left: 20px\">Friday (12pm - 2pm, 6pm - 8pm)</p>\n",
    "<h3>5. How many pizzas are we making during peak periods?</h3>\n",
    "    <p style = \"font-size: 16px;line-height: 0.05; padding-left: 20px\">2084 number of pizzas (at Friday 12pm - 2pm)</p>\n",
    "<h3>6. What are our best and worst-selling pizzas?</h3>\n",
    "    <p style = \"font-size: 16px;line-height: 0.05; padding-left: 20px\">Best-selling pizza: The Classic Deluxe Pizza</p>\n",
    "    <p style = \"font-size: 16px;line-height: 0.8; padding-left: 20px\">Worst-selling pizza: The Brie Carre Pizza</p>\n",
    "<h3>7. What's our average order value?</h3>\n",
    "    <p style = \"font-size: 16px;line-height: 0.05; padding-left: 20px\">Mean: USD 16.82</p>\n",
    "    <p style = \"font-size: 16px;line-height: 0.8; padding-left: 20px\">Median: USD 16.50</p>\n",
    "<h3>8. What is the total revenue up to the latest order date?</h3>\n",
    "    <p style = \"font-size: 16px;line-height: 0.05; padding-left: 20px\">USD 817,860.05</p>\n",
    "<h3>9. What is the total number of orders up to the latest order date?</h3>\n",
    "    <p style = \"font-size: 16px;line-height: 0.05; padding-left: 20px\">48620 number of orders.</p>\n",
    "<h3>10. Visualize the number of orders per day</h3>\n",
    "    <p style = \"font-size: 16px;line-height: 0.05; padding-left: 30px\">The graph shows that daily number of orders fluctuates frequently with notable peaks at the dates:</p>\n",
    "        <ul style = \"font-size: 16px; padding-left:50px;\">\n",
    "            <li>2015-11-26 (261 orders)</li>\n",
    "            <li>2015-11-27 (259 orders)</li>\n",
    "            <li>2015-10-15 (258 orders)</li>\n",
    "        </ul>\n",
    "    <p style = \"font-size: 16px;line-height: 0.05; padding-left: 30px;\">A few days which have significantly low number of orders are:</p>\n",
    "    <ul style = \"font-size: 16px; padding-left:50px;\">\n",
    "            <li>2015-12-30 (73 orders)</li>\n",
    "            <li>2015-03-22 (76 orders)</li>\n",
    "            <li>2015-12-29 (77 orders)</li>\n",
    "        </ul>\n",
    "        <p style = \"font-size: 16px;line-height: 1.35; padding-left: 30px;margin-top: 6px\">Further analysis could be conducted via time series analysis (e.g. Looking into autocorrelation function, identifying a suitable time series model and predict number of orders for the next month/year).</p>\n",
    "<h3>11. Visualize revenue earned per day</h3>\n",
    "    <p style = \"font-size: 16px;line-height: 1.35;padding-left:30px;margin-top: 6px\">The graph seems to have very similar pattern to the graph of daily number of orders. This implies that number of orders is directly proportional to revenue earned. This is reasonable as the number of orders increases, revenue increases.</p>\n",
    "<h3>12. Which month was revenue earned the highest?</h3>\n",
    "    <p style = \"font-size: 16px;line-height: 0.05; padding-left: 30px\">July</p>\n",
    "    </div>"
   ]
  }
 ],
 "metadata": {
  "kernelspec": {
   "display_name": "Python 3 (ipykernel)",
   "language": "python",
   "name": "python3"
  },
  "language_info": {
   "codemirror_mode": {
    "name": "ipython",
    "version": 3
   },
   "file_extension": ".py",
   "mimetype": "text/x-python",
   "name": "python",
   "nbconvert_exporter": "python",
   "pygments_lexer": "ipython3",
   "version": "3.9.12"
  }
 },
 "nbformat": 4,
 "nbformat_minor": 5
}
